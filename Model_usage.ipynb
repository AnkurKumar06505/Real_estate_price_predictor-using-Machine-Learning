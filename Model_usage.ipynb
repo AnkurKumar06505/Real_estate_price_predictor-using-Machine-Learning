{
 "cells": [
  {
   "cell_type": "code",
   "execution_count": 1,
   "id": "ad5139df-f970-4f45-aa90-d383d231582f",
   "metadata": {},
   "outputs": [],
   "source": [
    "from joblib import dump, load\n",
    "import numpy as np \n",
    "model = load('RealEstate.joblib')"
   ]
  },
  {
   "cell_type": "code",
   "execution_count": 24,
   "id": "e9f541a1-fc0f-4bbb-87f0-d1f45ffbb285",
   "metadata": {},
   "outputs": [],
   "source": [
    "features = np.array([[-6.43942006, 7.12628155, -2.6165014, -0.9, -1.42262747,\n",
    "       -11.44443979304, -49.31238772,  8.61111401, -26.0016879 , -0.5778192 ,\n",
    "       -0.97491834,  0.41164221, -88.86091034]])"
   ]
  },
  {
   "cell_type": "code",
   "execution_count": 26,
   "id": "7395b8a5-335b-4c95-8c60-3b7474712f3e",
   "metadata": {},
   "outputs": [
    {
     "data": {
      "text/plain": [
       "array([24.517])"
      ]
     },
     "execution_count": 26,
     "metadata": {},
     "output_type": "execute_result"
    }
   ],
   "source": [
    "model.predict(features)"
   ]
  },
  {
   "cell_type": "code",
   "execution_count": null,
   "id": "0ca2915e-a592-4c32-ba8a-c4466626389b",
   "metadata": {},
   "outputs": [],
   "source": []
  },
  {
   "cell_type": "code",
   "execution_count": null,
   "id": "1e33597f-1b5c-4492-aa2b-a91f0cfff0c4",
   "metadata": {},
   "outputs": [],
   "source": []
  }
 ],
 "metadata": {
  "kernelspec": {
   "display_name": "Python 3 (ipykernel)",
   "language": "python",
   "name": "python3"
  },
  "language_info": {
   "codemirror_mode": {
    "name": "ipython",
    "version": 3
   },
   "file_extension": ".py",
   "mimetype": "text/x-python",
   "name": "python",
   "nbconvert_exporter": "python",
   "pygments_lexer": "ipython3",
   "version": "3.12.4"
  }
 },
 "nbformat": 4,
 "nbformat_minor": 5
}
